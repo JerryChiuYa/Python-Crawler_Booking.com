{
 "cells": [
  {
   "cell_type": "code",
   "execution_count": 27,
   "id": "293c5718-f278-4774-b31e-33c8ae1370ad",
   "metadata": {},
   "outputs": [
    {
     "name": "stdout",
     "output_type": "stream",
     "text": [
      "第1頁已經爬完\n",
      "第2頁已經爬完\n",
      "第3頁已經爬完\n",
      "已經爬完4頁全部旅店\n",
      "CPU times: total: 4.53 s\n",
      "Wall time: 2min 37s\n"
     ]
    }
   ],
   "source": [
    "%%time\n",
    "import selenium\n",
    "import numpy as np\n",
    "from selenium import webdriver\n",
    "from selenium.common.exceptions import NoSuchElementException\n",
    "import time\n",
    "import pandas as pd\n",
    "from selenium.webdriver.chrome.options import Options\n",
    "from selenium.webdriver.common.by import By\n",
    "from selenium.webdriver.support.ui import WebDriverWait\n",
    "from selenium.webdriver.support import expected_conditions as EC\n",
    "from datetime import datetime\n",
    "from retrying import retry\n",
    "import warnings\n",
    "#from selenium.webdriver.common.keys import Keys\n",
    "\n",
    "warnings.filterwarnings('ignore')\n",
    "chrome_options = Options()\n",
    "chrome_options.page_load_strategy = 'eager'\n",
    "browser=webdriver.Chrome(r\"C:\\chromedriver_win32\\chromedriver.exe\", options=chrome_options)\n",
    "browser.get(\"https://www.booking.com/searchresults.zh-tw.html?label=booking-name-WheOB4fo0bvQXDeTzH5xHwS267725091255%3Apl%3Ata%3Ap1%3Ap22%2C563%2C000%3Aac%3Aap%3Aneg%3Afi%3Atikwd-51481728%3Alp1012810%3Ali%3Adec%3Adm%3Appccp%3DUmFuZG9tSVYkc2RlIyh9YfqnDqqG8nt1O4nYvDr1lms&sid=90ef178b84caf8bb0367e392dae66490&aid=376396&ss=%E8%8A%B1%E8%93%AE%E5%B8%82&ssne=%E8%8A%B1%E8%93%AE%E5%B8%82&ssne_untouched=%E8%8A%B1%E8%93%AE%E5%B8%82&lang=zh-tw&src=searchresults&dest_id=-2631690&dest_type=city&checkin=2022-07-30&checkout=2022-08-03&group_adults=2&no_rooms=1&group_children=0&sb_travel_purpose=leisure&nflt=price%3DTWD-min-2200-1%3Bfc%3D2%3Breview_score%3D90\")\n",
    "def get_booking():\n",
    "    global total_hotel_data\n",
    "    global hotel_url\n",
    "    \n",
    "    #個別旅館頁面\n",
    "    browser.switch_to.window(browser.window_handles[-1])\n",
    "    \n",
    "    #最長等7秒\n",
    "    @retry(wait_fixed=1, stop_max_attempt_number=10)\n",
    "    def get_hotel_ele():\n",
    "        h_ele=WebDriverWait(browser, 10).until(EC.visibility_of_element_located((By.ID, 'hp_hotel_name')))\n",
    "        return h_ele\n",
    "    \n",
    "    hotel_name2=get_hotel_ele()\n",
    "    hotel_name=hotel_name2.text\n",
    "    \n",
    "    #檢查是否找過此旅館\n",
    "    if (len(hotel_url[hotel_url['旅館總名稱'].astype(str).str.contains(hotel_name)]))>0:\n",
    "        browser.close()\n",
    "        browser.switch_to.window(browser.window_handles[-1])  \n",
    "        return\n",
    "    \n",
    "    #增加網址\n",
    "    one_url=pd.DataFrame({'旅館總名稱':[hotel_name], '旅館網址':[browser.current_url]})\n",
    "    hotel_url=hotel_url.append(one_url)\n",
    "    \n",
    "    @retry(wait_fixed=1, stop_max_attempt_number=10)\n",
    "    def get_room_facility_ele():\n",
    "        rooms=WebDriverWait(browser, 10).until(EC.presence_of_all_elements_located((By.CLASS_NAME, 'hprt-roomtype-icon-link')))\n",
    "        facilities=WebDriverWait(browser, 10).until(EC.presence_of_all_elements_located((By.CLASS_NAME, 'hprt-facilities-block')))\n",
    "        return rooms, facilities\n",
    "    \n",
    "    rooms=get_room_facility_ele()[0]\n",
    "    facilities=get_room_facility_ele()[1]\n",
    "\n",
    "    #個別旅館資訊\n",
    "    room_types=[]\n",
    "    facilities_total=[]\n",
    "    room_price=[]\n",
    "    \n",
    "    @retry(wait_fixed=1, stop_max_attempt_number=10)\n",
    "    def table_ele():\n",
    "        table=WebDriverWait(browser, 10).until(EC.presence_of_all_elements_located((By.CLASS_NAME, 'js-rt-block-row')))\n",
    "        return table\n",
    "    \n",
    "    table=table_ele()\n",
    "    \n",
    "    #table=browser.find_elements_by_class_name('js-rt-block-row')\n",
    "    table_lenth=len(table)\n",
    "\n",
    "\n",
    "    #撈個別旅館價格與設施\n",
    "    @retry(wait_fixed=1, stop_max_attempt_number=10)\n",
    "    def find_price(i,j):\n",
    "        price_xpath='//*[@id=\"hprt-table\"]/tbody/tr['+str(i) + ']/td[' + str(j) + ']/div/div[1]/div[1]/div[2]/div/span[1]'\n",
    "        price=browser.find_element_by_xpath(price_xpath).text\n",
    "        room_price.append(price)\n",
    "        \n",
    "    def room_facility(k):\n",
    "        room_types.append(rooms[k].text)\n",
    "        facilities_total.append(facilities[k].text)\n",
    "\n",
    "    k=0; i=1; j=3\n",
    "    find_price(i,j)     \n",
    "    room_facility(k)\n",
    "    while i < table_lenth:\n",
    "        try:\n",
    "            j=3\n",
    "            find_price(i+1,j)\n",
    "            i=i+1\n",
    "            k=k+1\n",
    "            room_facility(k)\n",
    "        except NoSuchElementException:       \n",
    "            j=2\n",
    "            find_price(i+1,j)\n",
    "            i=i+1\n",
    "            room_facility(k)\n",
    "        except Exception:\n",
    "            print (hotel_name+'發生例外')\n",
    "\n",
    "    #個別旅館形成DataFrame\n",
    "    one_hotel=pd.DataFrame({'旅館總名稱':[hotel_name], '房間類型':[''], '總價格': [''], '總設施': ['']})\n",
    "    one_hotel=one_hotel.merge(pd.DataFrame(zip(room_types, room_price, facilities_total), columns=['房間類型','總價格','總設施']), how='outer')\n",
    "    one_hotel['旅館總名稱'].fillna(one_hotel.iloc[0,0], inplace=True)\n",
    "    one_hotel=one_hotel.iloc[1:,:]\n",
    "    total_hotel_data=total_hotel_data.append(one_hotel)\n",
    "\n",
    "    #關閉個別旅館頁面\n",
    "    browser.close()\n",
    "    browser.switch_to.window(browser.window_handles[-1])\n",
    "    \n",
    "        \n",
    "#Global變數    \n",
    "current_page=0\n",
    "next_page=True\n",
    "#是否有下一頁的按紐\n",
    "@retry(wait_fixed=1, stop_max_attempt_number=10)\n",
    "def exist_next_page():\n",
    "    global next_page\n",
    "    try:\n",
    "        next_page=browser.find_element_by_xpath('//*[@id=\"search_results_table\"]/div/div/div/div/div[7]/div[2]/nav/div/div[3]/button').is_enabled()\n",
    "    except NoSuchElementException:\n",
    "        next_page=False\n",
    "\n",
    "#定義DataFrame\n",
    "total_hotel_data=pd.DataFrame()\n",
    "hotel_url=pd.DataFrame({'旅館總名稱':[], '旅館網址':[]})\n",
    "\n",
    "while(next_page==True):\n",
    "\n",
    "    @retry(wait_fixed=1, stop_max_attempt_number=10)\n",
    "    def hotel_check():\n",
    "        hotels_click=WebDriverWait(browser, 10).until(EC.visibility_of_all_elements_located((By.CLASS_NAME, 'b2f0d6a80e'))) #每個旅館的察看客房供應情況按鈕,class=b2f0d6a80e,f52f7d2689\n",
    "        hotels=WebDriverWait(browser, 10).until(EC.visibility_of_all_elements_located((By.CLASS_NAME, 'a23c043802'))) #旅館list    \n",
    "        return hotels_click, hotels\n",
    "\n",
    "    hotels_click=hotel_check()[0]\n",
    "    hotels=hotel_check()[1]\n",
    "    click_counts=5\n",
    "    hotel_length=len(hotels)\n",
    "    hotel_5=hotel_length//click_counts\n",
    "    hotel_remainder=hotel_length % click_counts\n",
    "\n",
    "    #總共幾次loop\n",
    "    for q in range(0, hotel_5):\n",
    "        for w in range(0, click_counts):\n",
    "            hotels_click[click_counts*q+w].click()\n",
    "        for t in range(0, click_counts):\n",
    "            get_booking()\n",
    "\n",
    "    #餘數loop\n",
    "    if (hotel_remainder>0):\n",
    "        for r in list(range(click_counts*hotel_5, hotel_length)):\n",
    "            hotels_click[r].click()\n",
    "        for w in range(0, hotel_remainder):\n",
    "            get_booking()\n",
    "\n",
    "    #判斷是否有下一頁\n",
    "    exist_next_page()\n",
    "    \n",
    "    \n",
    "    if (next_page==True):\n",
    "        \n",
    "        current_page=current_page+1\n",
    "        print ('第'+str(current_page)+'頁已經爬完')\n",
    "        @retry(wait_fixed=1, stop_max_attempt_number=10)\n",
    "        def go_next_page():\n",
    "            browser.find_element_by_class_name('f78c3700d2').click()  #前往下一頁\n",
    "        go_next_page()\n",
    "        time.sleep(2.5)\n",
    "        browser.switch_to.window(browser.window_handles[-1])\n",
    "        #WebDriverWait(browser, 7).until(EC.presence_of_element_located((By.CLASS_NAME, 'f78c3700d2'))).click() #前往下一頁\n",
    "        \n",
    "            \n",
    "    else:\n",
    "        current_page=current_page+1\n",
    "        print ('已經爬完'+str(current_page)+'頁全部旅店')\n",
    "        break\n",
    "        \n",
    "\n",
    "\n",
    "#處理DataFrame\n",
    "hotel_url.drop_duplicates(subset='旅館總名稱', keep='first', inplace=True)\n",
    "hotel_url.reset_index(drop=True, inplace=True)\n",
    "total_hotel_data.reset_index(drop=True, inplace=True)\n",
    "total_hotel_data.drop_duplicates(keep='first', inplace=True)\n",
    "total_hotel_data['旅館名稱']=np.where(total_hotel_data['旅館總名稱'].str.contains('\\n'), total_hotel_data['旅館總名稱'].str.split('\\n').str[1], total_hotel_data['旅館總名稱'].str.split(' ').str[1])\n",
    "total_hotel_data['旅館類型']=np.where(total_hotel_data['旅館總名稱'].str.contains('\\n'), total_hotel_data['旅館總名稱'].str.split('\\n').str[0], total_hotel_data['旅館總名稱'].str.split(' ').str[0])\n",
    "total_hotel_data['坪數m²']=np.where(total_hotel_data['總設施'].str.extract('(\\d+).m²').notna(), total_hotel_data['總設施'].str.extract('(\\d+).m²').astype('Int32'),'')\n",
    "total_hotel_data.loc[total_hotel_data['總設施'].str.contains('浴缸'), '浴缸']='V'\n",
    "total_hotel_data['總設施']=total_hotel_data['總設施'].str.replace('\\n',' ').str.replace('查看更多','')\n",
    "total_hotel_data['價格']=total_hotel_data['總價格'].str.split(' ').str[1]\n",
    "total_hotel_data['價格']=total_hotel_data['價格'].str.replace(',','').astype('int')\n",
    "total_hotel_data=total_hotel_data[['旅館總名稱','旅館名稱','旅館類型','房間類型','價格','坪數m²','浴缸','總設施']]\n",
    "\n",
    "with pd.ExcelWriter(r'C:\\Jupyterlab\\Output_Excel\\Booking.xlsx', engine = 'xlsxwriter') as writer:\n",
    "    total_hotel_data.to_excel(writer, '總表', index = False, freeze_panes = (1,1))\n",
    "    hotel_url.to_excel(writer, '網址', index = False, freeze_panes = (1,1))"
   ]
  },
  {
   "cell_type": "code",
   "execution_count": 12,
   "id": "046ae53a-bcd3-46aa-ac29-45f825740aeb",
   "metadata": {},
   "outputs": [
    {
     "name": "stdout",
     "output_type": "stream",
     "text": [
      "CPU times: total: 15.6 ms\n",
      "Wall time: 5.85 s\n"
     ]
    }
   ],
   "source": [
    "%%time\n",
    "import selenium\n",
    "import numpy as np\n",
    "from selenium import webdriver\n",
    "from selenium.common.exceptions import NoSuchElementException\n",
    "from selenium.webdriver.common.keys import Keys\n",
    "import time\n",
    "import pandas as pd\n",
    "from bs4 import BeautifulSoup\n",
    "from selenium.webdriver.common.by import By\n",
    "from selenium.webdriver.support.ui import WebDriverWait\n",
    "from selenium.webdriver.support import expected_conditions as EC\n",
    "from datetime import datetime\n",
    "from itertools import zip_longest\n",
    "import warnings\n",
    "\n",
    "warnings.filterwarnings('ignore')\n",
    "browser=webdriver.Chrome(r\"C:\\chromedriver_win32\\chromedriver.exe\")\n",
    "browser.get(\"https://www.booking.com/searchresults.zh-tw.html?label=booking-name-WheOB4fo0bvQXDeTzH5xHwS267725091255%3Apl%3Ata%3Ap1%3Ap22%2C563%2C000%3Aac%3Aap%3Aneg%3Afi%3Atikwd-51481728%3Alp1012810%3Ali%3Adec%3Adm%3Appccp%3DUmFuZG9tSVYkc2RlIyh9YfqnDqqG8nt1O4nYvDr1lms&sid=90ef178b84caf8bb0367e392dae66490&aid=376396&ss=%E8%8A%B1%E8%93%AE%E5%B8%82&ssne=%E8%8A%B1%E8%93%AE%E5%B8%82&ssne_untouched=%E8%8A%B1%E8%93%AE%E5%B8%82&lang=zh-tw&src=searchresults&dest_id=-2631690&dest_type=city&checkin=2022-07-30&checkout=2022-08-03&group_adults=2&no_rooms=1&group_children=0&sb_travel_purpose=leisure&nflt=price%3DTWD-min-1700-1%3Bfc%3D2%3Breview_score%3D90\")\n",
    "s"
   ]
  },
  {
   "cell_type": "code",
   "execution_count": 6,
   "id": "d590e992-47eb-4903-b7f9-20593d1402dd",
   "metadata": {},
   "outputs": [
    {
     "name": "stdout",
     "output_type": "stream",
     "text": [
      "Collecting retrying\n",
      "  Downloading retrying-1.3.3.tar.gz (10 kB)\n",
      "  Preparing metadata (setup.py): started\n",
      "  Preparing metadata (setup.py): finished with status 'done'\n",
      "Requirement already satisfied: six>=1.7.0 in c:\\users\\jerry\\appdata\\local\\programs\\python\\python310\\lib\\site-packages (from retrying) (1.16.0)\n",
      "Using legacy 'setup.py install' for retrying, since package 'wheel' is not installed.\n",
      "Installing collected packages: retrying\n",
      "  Running setup.py install for retrying: started\n",
      "  Running setup.py install for retrying: finished with status 'done'\n",
      "Successfully installed retrying-1.3.3\n"
     ]
    }
   ],
   "source": [
    "!pip install retrying"
   ]
  },
  {
   "cell_type": "code",
   "execution_count": 23,
   "id": "985627fb-209b-4f4d-a48e-897a75db7ce6",
   "metadata": {},
   "outputs": [],
   "source": [
    "browser.quit()"
   ]
  },
  {
   "cell_type": "code",
   "execution_count": 8,
   "id": "9e6424ce-945a-4e7f-b5cd-1200280a2fca",
   "metadata": {},
   "outputs": [],
   "source": [
    "from selenium.webdriver.chrome.options import Options"
   ]
  },
  {
   "cell_type": "code",
   "execution_count": 14,
   "id": "705ae242-9ccb-40fc-a2d4-402042fc7364",
   "metadata": {},
   "outputs": [
    {
     "data": {
      "text/plain": [
       "(123, 23, 777)"
      ]
     },
     "execution_count": 14,
     "metadata": {},
     "output_type": "execute_result"
    }
   ],
   "source": [
    "def test():\n",
    "    x=123\n",
    "    y=23\n",
    "    z=777\n",
    "    return x,y,z\n",
    "\n",
    "test()"
   ]
  },
  {
   "cell_type": "code",
   "execution_count": 16,
   "id": "997afa82-2d65-4a70-ba1f-62640b60d80c",
   "metadata": {},
   "outputs": [
    {
     "data": {
      "text/plain": [
       "777"
      ]
     },
     "execution_count": 16,
     "metadata": {},
     "output_type": "execute_result"
    }
   ],
   "source": [
    "test()[2]"
   ]
  },
  {
   "cell_type": "code",
   "execution_count": null,
   "id": "738ffa62-2138-4ab1-853e-c0e257e748fb",
   "metadata": {},
   "outputs": [],
   "source": []
  }
 ],
 "metadata": {
  "kernelspec": {
   "display_name": "Python 3 (ipykernel)",
   "language": "python",
   "name": "python3"
  },
  "language_info": {
   "codemirror_mode": {
    "name": "ipython",
    "version": 3
   },
   "file_extension": ".py",
   "mimetype": "text/x-python",
   "name": "python",
   "nbconvert_exporter": "python",
   "pygments_lexer": "ipython3",
   "version": "3.10.5"
  }
 },
 "nbformat": 4,
 "nbformat_minor": 5
}
